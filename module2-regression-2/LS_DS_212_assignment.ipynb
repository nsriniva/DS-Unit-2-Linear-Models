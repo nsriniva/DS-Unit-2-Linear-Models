{
  "nbformat": 4,
  "nbformat_minor": 0,
  "metadata": {
    "kernelspec": {
      "display_name": "Python 3",
      "language": "python",
      "name": "python3"
    },
    "language_info": {
      "codemirror_mode": {
        "name": "ipython",
        "version": 3
      },
      "file_extension": ".py",
      "mimetype": "text/x-python",
      "name": "python",
      "nbconvert_exporter": "python",
      "pygments_lexer": "ipython3",
      "version": "3.7.3"
    },
    "colab": {
      "name": "LS_DS_212_assignment.ipynb",
      "provenance": [],
      "include_colab_link": true
    }
  },
  "cells": [
    {
      "cell_type": "markdown",
      "metadata": {
        "id": "view-in-github",
        "colab_type": "text"
      },
      "source": [
        "<a href=\"https://colab.research.google.com/github/nsriniva/DS-Unit-2-Linear-Models/blob/master/module2-regression-2/LS_DS_212_assignment.ipynb\" target=\"_parent\"><img src=\"https://colab.research.google.com/assets/colab-badge.svg\" alt=\"Open In Colab\"/></a>"
      ]
    },
    {
      "cell_type": "markdown",
      "metadata": {
        "id": "WfiE-EDOorF1"
      },
      "source": [
        "Lambda School Data Science\n",
        "\n",
        "*Unit 2, Sprint 1, Module 2*\n",
        "\n",
        "---"
      ]
    },
    {
      "cell_type": "markdown",
      "metadata": {
        "id": "7IXUfiQ2UKj6"
      },
      "source": [
        "# Regression 2\n",
        "\n",
        "## Assignment\n",
        "\n",
        "You'll continue to **predict how much it costs to rent an apartment in NYC,** using the dataset from renthop.com.\n",
        "\n",
        "- [ ] Do train/test split. Use data from April & May 2016 to train. Use data from June 2016 to test.\n",
        "- [ ] Engineer at least two new features. (See below for explanation & ideas.)\n",
        "- [ ] Fit a linear regression model with at least two features.\n",
        "- [ ] Get the model's coefficients and intercept.\n",
        "- [ ] Get regression metrics RMSE, MAE, and $R^2$, for both the train and test data.\n",
        "- [ ] What's the best test MAE you can get? Share your score and features used with your cohort on Slack!\n",
        "- [ ] As always, commit your notebook to your fork of the GitHub repo.\n",
        "\n",
        "\n",
        "#### [Feature Engineering](https://en.wikipedia.org/wiki/Feature_engineering)\n",
        "\n",
        "> \"Some machine learning projects succeed and some fail. What makes the difference? Easily the most important factor is the features used.\" — Pedro Domingos, [\"A Few Useful Things to Know about Machine Learning\"](https://homes.cs.washington.edu/~pedrod/papers/cacm12.pdf)\n",
        "\n",
        "> \"Coming up with features is difficult, time-consuming, requires expert knowledge. 'Applied machine learning' is basically feature engineering.\" — Andrew Ng, [Machine Learning and AI via Brain simulations](https://forum.stanford.edu/events/2011/2011slides/plenary/2011plenaryNg.pdf) \n",
        "\n",
        "> Feature engineering is the process of using domain knowledge of the data to create features that make machine learning algorithms work. \n",
        "\n",
        "#### Feature Ideas\n",
        "- Does the apartment have a description?\n",
        "- How long is the description?\n",
        "- How many total perks does each apartment have?\n",
        "- Are cats _or_ dogs allowed?\n",
        "- Are cats _and_ dogs allowed?\n",
        "- Total number of rooms (beds + baths)\n",
        "- Ratio of beds to baths\n",
        "- What's the neighborhood, based on address or latitude & longitude?\n",
        "\n",
        "## Stretch Goals\n",
        "- [ ] If you want more math, skim [_An Introduction to Statistical Learning_](http://faculty.marshall.usc.edu/gareth-james/ISL/ISLR%20Seventh%20Printing.pdf),  Chapter 3.1, Simple Linear Regression, & Chapter 3.2, Multiple Linear Regression\n",
        "- [ ] If you want more introduction, watch [Brandon Foltz, Statistics 101: Simple Linear Regression](https://www.youtube.com/watch?v=ZkjP5RJLQF4)\n",
        "(20 minutes, over 1 million views)\n",
        "- [ ] Add your own stretch goal(s) !"
      ]
    },
    {
      "cell_type": "code",
      "metadata": {
        "id": "o9eSnDYhUGD7"
      },
      "source": [
        "%%capture\n",
        "import sys\n",
        "\n",
        "# If you're on Colab:\n",
        "if 'google.colab' in sys.modules:\n",
        "    DATA_PATH = 'https://raw.githubusercontent.com/LambdaSchool/DS-Unit-2-Applied-Modeling/master/data/'\n",
        "    !pip install category_encoders==2.*\n",
        "\n",
        "# If you're working locally:\n",
        "else:\n",
        "    DATA_PATH = '../data/'\n",
        "    \n",
        "# Ignore this Numpy warning when using Plotly Express:\n",
        "# FutureWarning: Method .ptp is deprecated and will be removed in a future version. Use numpy.ptp instead.\n",
        "import warnings\n",
        "warnings.filterwarnings(action='ignore', category=FutureWarning, module='numpy')"
      ],
      "execution_count": 1,
      "outputs": []
    },
    {
      "cell_type": "code",
      "metadata": {
        "id": "cvrw-T3bZOuW",
        "outputId": "6a0ff7f4-cd91-40e6-d218-35b1486af102",
        "colab": {
          "base_uri": "https://localhost:8080/",
          "height": 496
        }
      },
      "source": [
        "import numpy as np\n",
        "import pandas as pd\n",
        "\n",
        "# Read New York City apartment rental listing data\n",
        "df = pd.read_csv(DATA_PATH+'apartments/renthop-nyc.csv')\n",
        "assert df.shape == (49352, 34)\n",
        "\n",
        "# Remove the most extreme 1% prices,\n",
        "# the most extreme .1% latitudes, &\n",
        "# the most extreme .1% longitudes\n",
        "df = df[(df['price'] >= np.percentile(df['price'], 0.5)) & \n",
        "        (df['price'] <= np.percentile(df['price'], 99.5)) & \n",
        "        (df['latitude'] >= np.percentile(df['latitude'], 0.05)) & \n",
        "        (df['latitude'] < np.percentile(df['latitude'], 99.95)) &\n",
        "        (df['longitude'] >= np.percentile(df['longitude'], 0.05)) & \n",
        "        (df['longitude'] <= np.percentile(df['longitude'], 99.95))]\n",
        "\n",
        "# Rename 'pre-war' column to python friendly 'pre_war'\n",
        "# This way, we can use df.pre_war to refer to the column.\n",
        "df = df.rename(columns={'pre-war':'pre_war'})\n",
        "\n",
        "df.head()"
      ],
      "execution_count": 2,
      "outputs": [
        {
          "output_type": "execute_result",
          "data": {
            "text/html": [
              "<div>\n",
              "<style scoped>\n",
              "    .dataframe tbody tr th:only-of-type {\n",
              "        vertical-align: middle;\n",
              "    }\n",
              "\n",
              "    .dataframe tbody tr th {\n",
              "        vertical-align: top;\n",
              "    }\n",
              "\n",
              "    .dataframe thead th {\n",
              "        text-align: right;\n",
              "    }\n",
              "</style>\n",
              "<table border=\"1\" class=\"dataframe\">\n",
              "  <thead>\n",
              "    <tr style=\"text-align: right;\">\n",
              "      <th></th>\n",
              "      <th>bathrooms</th>\n",
              "      <th>bedrooms</th>\n",
              "      <th>created</th>\n",
              "      <th>description</th>\n",
              "      <th>display_address</th>\n",
              "      <th>latitude</th>\n",
              "      <th>longitude</th>\n",
              "      <th>price</th>\n",
              "      <th>street_address</th>\n",
              "      <th>interest_level</th>\n",
              "      <th>elevator</th>\n",
              "      <th>cats_allowed</th>\n",
              "      <th>hardwood_floors</th>\n",
              "      <th>dogs_allowed</th>\n",
              "      <th>doorman</th>\n",
              "      <th>dishwasher</th>\n",
              "      <th>no_fee</th>\n",
              "      <th>laundry_in_building</th>\n",
              "      <th>fitness_center</th>\n",
              "      <th>pre_war</th>\n",
              "      <th>laundry_in_unit</th>\n",
              "      <th>roof_deck</th>\n",
              "      <th>outdoor_space</th>\n",
              "      <th>dining_room</th>\n",
              "      <th>high_speed_internet</th>\n",
              "      <th>balcony</th>\n",
              "      <th>swimming_pool</th>\n",
              "      <th>new_construction</th>\n",
              "      <th>terrace</th>\n",
              "      <th>exclusive</th>\n",
              "      <th>loft</th>\n",
              "      <th>garden_patio</th>\n",
              "      <th>wheelchair_access</th>\n",
              "      <th>common_outdoor_space</th>\n",
              "    </tr>\n",
              "  </thead>\n",
              "  <tbody>\n",
              "    <tr>\n",
              "      <th>0</th>\n",
              "      <td>1.5</td>\n",
              "      <td>3</td>\n",
              "      <td>2016-06-24 07:54:24</td>\n",
              "      <td>A Brand New 3 Bedroom 1.5 bath ApartmentEnjoy ...</td>\n",
              "      <td>Metropolitan Avenue</td>\n",
              "      <td>40.7145</td>\n",
              "      <td>-73.9425</td>\n",
              "      <td>3000</td>\n",
              "      <td>792 Metropolitan Avenue</td>\n",
              "      <td>medium</td>\n",
              "      <td>0</td>\n",
              "      <td>0</td>\n",
              "      <td>0</td>\n",
              "      <td>0</td>\n",
              "      <td>0</td>\n",
              "      <td>0</td>\n",
              "      <td>0</td>\n",
              "      <td>0</td>\n",
              "      <td>0</td>\n",
              "      <td>0</td>\n",
              "      <td>0</td>\n",
              "      <td>0</td>\n",
              "      <td>0</td>\n",
              "      <td>0</td>\n",
              "      <td>0</td>\n",
              "      <td>0</td>\n",
              "      <td>0</td>\n",
              "      <td>0</td>\n",
              "      <td>0</td>\n",
              "      <td>0</td>\n",
              "      <td>0</td>\n",
              "      <td>0</td>\n",
              "      <td>0</td>\n",
              "      <td>0</td>\n",
              "    </tr>\n",
              "    <tr>\n",
              "      <th>1</th>\n",
              "      <td>1.0</td>\n",
              "      <td>2</td>\n",
              "      <td>2016-06-12 12:19:27</td>\n",
              "      <td></td>\n",
              "      <td>Columbus Avenue</td>\n",
              "      <td>40.7947</td>\n",
              "      <td>-73.9667</td>\n",
              "      <td>5465</td>\n",
              "      <td>808 Columbus Avenue</td>\n",
              "      <td>low</td>\n",
              "      <td>1</td>\n",
              "      <td>1</td>\n",
              "      <td>0</td>\n",
              "      <td>1</td>\n",
              "      <td>1</td>\n",
              "      <td>0</td>\n",
              "      <td>0</td>\n",
              "      <td>0</td>\n",
              "      <td>1</td>\n",
              "      <td>0</td>\n",
              "      <td>0</td>\n",
              "      <td>0</td>\n",
              "      <td>0</td>\n",
              "      <td>0</td>\n",
              "      <td>0</td>\n",
              "      <td>0</td>\n",
              "      <td>0</td>\n",
              "      <td>0</td>\n",
              "      <td>0</td>\n",
              "      <td>0</td>\n",
              "      <td>0</td>\n",
              "      <td>0</td>\n",
              "      <td>0</td>\n",
              "      <td>0</td>\n",
              "    </tr>\n",
              "    <tr>\n",
              "      <th>2</th>\n",
              "      <td>1.0</td>\n",
              "      <td>1</td>\n",
              "      <td>2016-04-17 03:26:41</td>\n",
              "      <td>Top Top West Village location, beautiful Pre-w...</td>\n",
              "      <td>W 13 Street</td>\n",
              "      <td>40.7388</td>\n",
              "      <td>-74.0018</td>\n",
              "      <td>2850</td>\n",
              "      <td>241 W 13 Street</td>\n",
              "      <td>high</td>\n",
              "      <td>0</td>\n",
              "      <td>0</td>\n",
              "      <td>1</td>\n",
              "      <td>0</td>\n",
              "      <td>0</td>\n",
              "      <td>1</td>\n",
              "      <td>0</td>\n",
              "      <td>1</td>\n",
              "      <td>0</td>\n",
              "      <td>0</td>\n",
              "      <td>0</td>\n",
              "      <td>0</td>\n",
              "      <td>0</td>\n",
              "      <td>0</td>\n",
              "      <td>0</td>\n",
              "      <td>0</td>\n",
              "      <td>0</td>\n",
              "      <td>0</td>\n",
              "      <td>0</td>\n",
              "      <td>0</td>\n",
              "      <td>0</td>\n",
              "      <td>0</td>\n",
              "      <td>0</td>\n",
              "      <td>0</td>\n",
              "    </tr>\n",
              "    <tr>\n",
              "      <th>3</th>\n",
              "      <td>1.0</td>\n",
              "      <td>1</td>\n",
              "      <td>2016-04-18 02:22:02</td>\n",
              "      <td>Building Amenities - Garage - Garden - fitness...</td>\n",
              "      <td>East 49th Street</td>\n",
              "      <td>40.7539</td>\n",
              "      <td>-73.9677</td>\n",
              "      <td>3275</td>\n",
              "      <td>333 East 49th Street</td>\n",
              "      <td>low</td>\n",
              "      <td>0</td>\n",
              "      <td>0</td>\n",
              "      <td>1</td>\n",
              "      <td>0</td>\n",
              "      <td>0</td>\n",
              "      <td>0</td>\n",
              "      <td>1</td>\n",
              "      <td>0</td>\n",
              "      <td>0</td>\n",
              "      <td>0</td>\n",
              "      <td>0</td>\n",
              "      <td>0</td>\n",
              "      <td>0</td>\n",
              "      <td>0</td>\n",
              "      <td>0</td>\n",
              "      <td>0</td>\n",
              "      <td>0</td>\n",
              "      <td>0</td>\n",
              "      <td>0</td>\n",
              "      <td>0</td>\n",
              "      <td>0</td>\n",
              "      <td>0</td>\n",
              "      <td>0</td>\n",
              "      <td>0</td>\n",
              "    </tr>\n",
              "    <tr>\n",
              "      <th>4</th>\n",
              "      <td>1.0</td>\n",
              "      <td>4</td>\n",
              "      <td>2016-04-28 01:32:41</td>\n",
              "      <td>Beautifully renovated 3 bedroom flex 4 bedroom...</td>\n",
              "      <td>West 143rd Street</td>\n",
              "      <td>40.8241</td>\n",
              "      <td>-73.9493</td>\n",
              "      <td>3350</td>\n",
              "      <td>500 West 143rd Street</td>\n",
              "      <td>low</td>\n",
              "      <td>0</td>\n",
              "      <td>0</td>\n",
              "      <td>0</td>\n",
              "      <td>0</td>\n",
              "      <td>0</td>\n",
              "      <td>0</td>\n",
              "      <td>0</td>\n",
              "      <td>0</td>\n",
              "      <td>0</td>\n",
              "      <td>1</td>\n",
              "      <td>0</td>\n",
              "      <td>0</td>\n",
              "      <td>0</td>\n",
              "      <td>0</td>\n",
              "      <td>0</td>\n",
              "      <td>0</td>\n",
              "      <td>0</td>\n",
              "      <td>0</td>\n",
              "      <td>0</td>\n",
              "      <td>0</td>\n",
              "      <td>0</td>\n",
              "      <td>0</td>\n",
              "      <td>0</td>\n",
              "      <td>0</td>\n",
              "    </tr>\n",
              "  </tbody>\n",
              "</table>\n",
              "</div>"
            ],
            "text/plain": [
              "   bathrooms  bedrooms  ... wheelchair_access common_outdoor_space\n",
              "0        1.5         3  ...                 0                    0\n",
              "1        1.0         2  ...                 0                    0\n",
              "2        1.0         1  ...                 0                    0\n",
              "3        1.0         1  ...                 0                    0\n",
              "4        1.0         4  ...                 0                    0\n",
              "\n",
              "[5 rows x 34 columns]"
            ]
          },
          "metadata": {
            "tags": []
          },
          "execution_count": 2
        }
      ]
    },
    {
      "cell_type": "code",
      "metadata": {
        "id": "QuaCRpport5D",
        "outputId": "00e1e1f3-a93a-47dc-af26-98d8dc4369bd",
        "colab": {
          "base_uri": "https://localhost:8080/"
        }
      },
      "source": [
        "# The 'created' feature is of type Object\n",
        "df.created.dtype"
      ],
      "execution_count": 3,
      "outputs": [
        {
          "output_type": "execute_result",
          "data": {
            "text/plain": [
              "dtype('O')"
            ]
          },
          "metadata": {
            "tags": []
          },
          "execution_count": 3
        }
      ]
    },
    {
      "cell_type": "code",
      "metadata": {
        "id": "lGwy85FSj8bV",
        "outputId": "b0d48390-870e-427e-990f-1a79fc801f62",
        "colab": {
          "base_uri": "https://localhost:8080/"
        }
      },
      "source": [
        "# Converting 'created' to datetime\n",
        "df.created = df.created.astype('datetime64[ns]')\n",
        "df.shape"
      ],
      "execution_count": 4,
      "outputs": [
        {
          "output_type": "execute_result",
          "data": {
            "text/plain": [
              "(48817, 34)"
            ]
          },
          "metadata": {
            "tags": []
          },
          "execution_count": 4
        }
      ]
    },
    {
      "cell_type": "code",
      "metadata": {
        "id": "wmJ8zCN_rXVr",
        "outputId": "aedb1d5e-0113-485e-ebd1-d0f239dd350b",
        "colab": {
          "base_uri": "https://localhost:8080/"
        }
      },
      "source": [
        "df[df.created < 'April 2016'].shape"
      ],
      "execution_count": 5,
      "outputs": [
        {
          "output_type": "execute_result",
          "data": {
            "text/plain": [
              "(0, 34)"
            ]
          },
          "metadata": {
            "tags": []
          },
          "execution_count": 5
        }
      ]
    },
    {
      "cell_type": "code",
      "metadata": {
        "id": "QtELzOMJq3ia",
        "outputId": "e700b85a-f298-4074-ec8c-f83ab9f7e318",
        "colab": {
          "base_uri": "https://localhost:8080/"
        }
      },
      "source": [
        "df[(df.created >= 'April 2016') & (df.created < 'June 2016')].shape"
      ],
      "execution_count": 6,
      "outputs": [
        {
          "output_type": "execute_result",
          "data": {
            "text/plain": [
              "(31844, 34)"
            ]
          },
          "metadata": {
            "tags": []
          },
          "execution_count": 6
        }
      ]
    },
    {
      "cell_type": "code",
      "metadata": {
        "id": "P1565ZjvriGE",
        "outputId": "0e5f99d8-3a6e-414d-f6db-919a14be923c",
        "colab": {
          "base_uri": "https://localhost:8080/"
        }
      },
      "source": [
        "df[df.created >= 'June 2016'].shape"
      ],
      "execution_count": 7,
      "outputs": [
        {
          "output_type": "execute_result",
          "data": {
            "text/plain": [
              "(16973, 34)"
            ]
          },
          "metadata": {
            "tags": []
          },
          "execution_count": 7
        }
      ]
    },
    {
      "cell_type": "code",
      "metadata": {
        "id": "fnF8_UNxrPWT",
        "outputId": "1d5f95ca-c5b3-4b76-e5f0-dca0cca50e78",
        "colab": {
          "base_uri": "https://localhost:8080/"
        }
      },
      "source": [
        "df[df.created >= 'July 2016'].shape"
      ],
      "execution_count": 8,
      "outputs": [
        {
          "output_type": "execute_result",
          "data": {
            "text/plain": [
              "(0, 34)"
            ]
          },
          "metadata": {
            "tags": []
          },
          "execution_count": 8
        }
      ]
    },
    {
      "cell_type": "code",
      "metadata": {
        "id": "yR0fXggJVUNf",
        "outputId": "1c612a49-263d-4b2c-96f6-c9ffd9ff4aaa",
        "colab": {
          "base_uri": "https://localhost:8080/"
        }
      },
      "source": [
        "# Creating new attribute 'total_rooms' as sum of 'bathrooms' \n",
        "# and 'bedrooms'\n",
        "df['total_rooms'] = df.bedrooms + df.bathrooms\n",
        "df.total_rooms.value_counts()"
      ],
      "execution_count": 9,
      "outputs": [
        {
          "output_type": "execute_result",
          "data": {
            "text/plain": [
              "2.0     15286\n",
              "3.0     11083\n",
              "1.0      9200\n",
              "4.0      6940\n",
              "5.0      3160\n",
              "6.0      1605\n",
              "4.5       291\n",
              "7.0       277\n",
              "3.5       210\n",
              "5.5       190\n",
              "2.5       154\n",
              "0.0       151\n",
              "8.0        83\n",
              "6.5        67\n",
              "9.0        49\n",
              "7.5        32\n",
              "10.0       16\n",
              "8.5        11\n",
              "1.5         9\n",
              "12.0        2\n",
              "11.0        1\n",
              "Name: total_rooms, dtype: int64"
            ]
          },
          "metadata": {
            "tags": []
          },
          "execution_count": 9
        }
      ]
    },
    {
      "cell_type": "code",
      "metadata": {
        "id": "3VwXKJ-s2T48",
        "outputId": "e21ef940-5a5a-4878-9484-cd3194bd8aa1",
        "colab": {
          "base_uri": "https://localhost:8080/",
          "height": 205
        }
      },
      "source": [
        "# Going to use dislay_address to derive new attribute\n",
        "# It hass 133 NaN entries that need to be fixed\n",
        "display(df.isna().sum()['display_address'])\n",
        "\n",
        "display(df.display_address.iloc[240])\n",
        "print('\\n')\n",
        "# Fix display_address by removing door number from street_address\n",
        "# If street address is not a valid string, set display_address to\n",
        "# empty string.\n",
        "fix_disp = lambda x: '' if (isinstance(x,float)) else ' '.join(x.split()[1:]) \n",
        "\n",
        "df.display_address.loc[df.display_address.isna()] = df.street_address[df.display_address.isna()].apply(fix_disp)\n",
        "\n",
        "display(df.isna().sum()['display_address'])\n",
        "display(df.display_address.iloc[240])\n",
        "\n"
      ],
      "execution_count": 10,
      "outputs": [
        {
          "output_type": "display_data",
          "data": {
            "text/plain": [
              "133"
            ]
          },
          "metadata": {
            "tags": []
          }
        },
        {
          "output_type": "display_data",
          "data": {
            "text/plain": [
              "nan"
            ]
          },
          "metadata": {
            "tags": []
          }
        },
        {
          "output_type": "stream",
          "text": [
            "\n",
            "\n"
          ],
          "name": "stdout"
        },
        {
          "output_type": "stream",
          "text": [
            "/usr/local/lib/python3.6/dist-packages/pandas/core/indexing.py:670: SettingWithCopyWarning: \n",
            "A value is trying to be set on a copy of a slice from a DataFrame\n",
            "\n",
            "See the caveats in the documentation: https://pandas.pydata.org/pandas-docs/stable/user_guide/indexing.html#returning-a-view-versus-a-copy\n",
            "  iloc._setitem_with_indexer(indexer, value)\n"
          ],
          "name": "stderr"
        },
        {
          "output_type": "display_data",
          "data": {
            "text/plain": [
              "0"
            ]
          },
          "metadata": {
            "tags": []
          }
        },
        {
          "output_type": "display_data",
          "data": {
            "application/vnd.google.colaboratory.intrinsic+json": {
              "type": "string"
            },
            "text/plain": [
              "'Madison Avenue'"
            ]
          },
          "metadata": {
            "tags": []
          }
        }
      ]
    },
    {
      "cell_type": "code",
      "metadata": {
        "id": "CanUOv8Au03p",
        "outputId": "96a6c3d5-b149-4dcc-e931-5e3a7df0e62f",
        "colab": {
          "base_uri": "https://localhost:8080/"
        }
      },
      "source": [
        "disp_addr = df.display_address.value_counts()\n",
        "ldisp_addr = len(disp_addr)\n",
        "\n",
        "freq = lambda x: disp_addr[x]\n",
        "\n",
        "# Create new feature 'availabilty' by using the freq\n",
        "# with which a specific display_address occurrs in\n",
        "# the dataframe.\n",
        "df['availability'] = df.display_address.apply(freq)\n",
        "\n",
        "df.availability.value_counts()"
      ],
      "execution_count": 11,
      "outputs": [
        {
          "output_type": "execute_result",
          "data": {
            "text/plain": [
              "1     5531\n",
              "2     1948\n",
              "3     1317\n",
              "4     1080\n",
              "5     1000\n",
              "      ... \n",
              "82      82\n",
              "80      80\n",
              "73      73\n",
              "57      57\n",
              "53      53\n",
              "Name: availability, Length: 146, dtype: int64"
            ]
          },
          "metadata": {
            "tags": []
          },
          "execution_count": 11
        }
      ]
    },
    {
      "cell_type": "code",
      "metadata": {
        "id": "fk-TQLWP9WI-",
        "outputId": "34d421d8-852c-4f48-9cb5-f89f188fa337",
        "colab": {
          "base_uri": "https://localhost:8080/"
        }
      },
      "source": [
        "# Create 'yuppy' attribute by determining if a \n",
        "# specific entry offers both a fitness_centre and\n",
        "# high_speed_internet\n",
        "df['yuppy'] = df.fitness_center & df.high_speed_internet\n",
        "df.yuppy.value_counts()"
      ],
      "execution_count": 12,
      "outputs": [
        {
          "output_type": "execute_result",
          "data": {
            "text/plain": [
              "0    45354\n",
              "1     3463\n",
              "Name: yuppy, dtype: int64"
            ]
          },
          "metadata": {
            "tags": []
          },
          "execution_count": 12
        }
      ]
    },
    {
      "cell_type": "code",
      "metadata": {
        "id": "3uvGlfSTOzFv",
        "outputId": "d8bbf558-8e5f-4960-bead-ef9d4efae1ec",
        "colab": {
          "base_uri": "https://localhost:8080/",
          "height": 224
        }
      },
      "source": [
        "# Extract columns with numerical values\n",
        "num_df = df.select_dtypes(include=np.number)\n",
        "num_df.head()"
      ],
      "execution_count": 13,
      "outputs": [
        {
          "output_type": "execute_result",
          "data": {
            "text/html": [
              "<div>\n",
              "<style scoped>\n",
              "    .dataframe tbody tr th:only-of-type {\n",
              "        vertical-align: middle;\n",
              "    }\n",
              "\n",
              "    .dataframe tbody tr th {\n",
              "        vertical-align: top;\n",
              "    }\n",
              "\n",
              "    .dataframe thead th {\n",
              "        text-align: right;\n",
              "    }\n",
              "</style>\n",
              "<table border=\"1\" class=\"dataframe\">\n",
              "  <thead>\n",
              "    <tr style=\"text-align: right;\">\n",
              "      <th></th>\n",
              "      <th>bathrooms</th>\n",
              "      <th>bedrooms</th>\n",
              "      <th>latitude</th>\n",
              "      <th>longitude</th>\n",
              "      <th>price</th>\n",
              "      <th>elevator</th>\n",
              "      <th>cats_allowed</th>\n",
              "      <th>hardwood_floors</th>\n",
              "      <th>dogs_allowed</th>\n",
              "      <th>doorman</th>\n",
              "      <th>dishwasher</th>\n",
              "      <th>no_fee</th>\n",
              "      <th>laundry_in_building</th>\n",
              "      <th>fitness_center</th>\n",
              "      <th>pre_war</th>\n",
              "      <th>laundry_in_unit</th>\n",
              "      <th>roof_deck</th>\n",
              "      <th>outdoor_space</th>\n",
              "      <th>dining_room</th>\n",
              "      <th>high_speed_internet</th>\n",
              "      <th>balcony</th>\n",
              "      <th>swimming_pool</th>\n",
              "      <th>new_construction</th>\n",
              "      <th>terrace</th>\n",
              "      <th>exclusive</th>\n",
              "      <th>loft</th>\n",
              "      <th>garden_patio</th>\n",
              "      <th>wheelchair_access</th>\n",
              "      <th>common_outdoor_space</th>\n",
              "      <th>total_rooms</th>\n",
              "      <th>availability</th>\n",
              "      <th>yuppy</th>\n",
              "    </tr>\n",
              "  </thead>\n",
              "  <tbody>\n",
              "    <tr>\n",
              "      <th>0</th>\n",
              "      <td>1.5</td>\n",
              "      <td>3</td>\n",
              "      <td>40.7145</td>\n",
              "      <td>-73.9425</td>\n",
              "      <td>3000</td>\n",
              "      <td>0</td>\n",
              "      <td>0</td>\n",
              "      <td>0</td>\n",
              "      <td>0</td>\n",
              "      <td>0</td>\n",
              "      <td>0</td>\n",
              "      <td>0</td>\n",
              "      <td>0</td>\n",
              "      <td>0</td>\n",
              "      <td>0</td>\n",
              "      <td>0</td>\n",
              "      <td>0</td>\n",
              "      <td>0</td>\n",
              "      <td>0</td>\n",
              "      <td>0</td>\n",
              "      <td>0</td>\n",
              "      <td>0</td>\n",
              "      <td>0</td>\n",
              "      <td>0</td>\n",
              "      <td>0</td>\n",
              "      <td>0</td>\n",
              "      <td>0</td>\n",
              "      <td>0</td>\n",
              "      <td>0</td>\n",
              "      <td>4.5</td>\n",
              "      <td>22</td>\n",
              "      <td>0</td>\n",
              "    </tr>\n",
              "    <tr>\n",
              "      <th>1</th>\n",
              "      <td>1.0</td>\n",
              "      <td>2</td>\n",
              "      <td>40.7947</td>\n",
              "      <td>-73.9667</td>\n",
              "      <td>5465</td>\n",
              "      <td>1</td>\n",
              "      <td>1</td>\n",
              "      <td>0</td>\n",
              "      <td>1</td>\n",
              "      <td>1</td>\n",
              "      <td>0</td>\n",
              "      <td>0</td>\n",
              "      <td>0</td>\n",
              "      <td>1</td>\n",
              "      <td>0</td>\n",
              "      <td>0</td>\n",
              "      <td>0</td>\n",
              "      <td>0</td>\n",
              "      <td>0</td>\n",
              "      <td>0</td>\n",
              "      <td>0</td>\n",
              "      <td>0</td>\n",
              "      <td>0</td>\n",
              "      <td>0</td>\n",
              "      <td>0</td>\n",
              "      <td>0</td>\n",
              "      <td>0</td>\n",
              "      <td>0</td>\n",
              "      <td>0</td>\n",
              "      <td>3.0</td>\n",
              "      <td>177</td>\n",
              "      <td>0</td>\n",
              "    </tr>\n",
              "    <tr>\n",
              "      <th>2</th>\n",
              "      <td>1.0</td>\n",
              "      <td>1</td>\n",
              "      <td>40.7388</td>\n",
              "      <td>-74.0018</td>\n",
              "      <td>2850</td>\n",
              "      <td>0</td>\n",
              "      <td>0</td>\n",
              "      <td>1</td>\n",
              "      <td>0</td>\n",
              "      <td>0</td>\n",
              "      <td>1</td>\n",
              "      <td>0</td>\n",
              "      <td>1</td>\n",
              "      <td>0</td>\n",
              "      <td>0</td>\n",
              "      <td>0</td>\n",
              "      <td>0</td>\n",
              "      <td>0</td>\n",
              "      <td>0</td>\n",
              "      <td>0</td>\n",
              "      <td>0</td>\n",
              "      <td>0</td>\n",
              "      <td>0</td>\n",
              "      <td>0</td>\n",
              "      <td>0</td>\n",
              "      <td>0</td>\n",
              "      <td>0</td>\n",
              "      <td>0</td>\n",
              "      <td>0</td>\n",
              "      <td>2.0</td>\n",
              "      <td>69</td>\n",
              "      <td>0</td>\n",
              "    </tr>\n",
              "    <tr>\n",
              "      <th>3</th>\n",
              "      <td>1.0</td>\n",
              "      <td>1</td>\n",
              "      <td>40.7539</td>\n",
              "      <td>-73.9677</td>\n",
              "      <td>3275</td>\n",
              "      <td>0</td>\n",
              "      <td>0</td>\n",
              "      <td>1</td>\n",
              "      <td>0</td>\n",
              "      <td>0</td>\n",
              "      <td>0</td>\n",
              "      <td>1</td>\n",
              "      <td>0</td>\n",
              "      <td>0</td>\n",
              "      <td>0</td>\n",
              "      <td>0</td>\n",
              "      <td>0</td>\n",
              "      <td>0</td>\n",
              "      <td>0</td>\n",
              "      <td>0</td>\n",
              "      <td>0</td>\n",
              "      <td>0</td>\n",
              "      <td>0</td>\n",
              "      <td>0</td>\n",
              "      <td>0</td>\n",
              "      <td>0</td>\n",
              "      <td>0</td>\n",
              "      <td>0</td>\n",
              "      <td>0</td>\n",
              "      <td>2.0</td>\n",
              "      <td>72</td>\n",
              "      <td>0</td>\n",
              "    </tr>\n",
              "    <tr>\n",
              "      <th>4</th>\n",
              "      <td>1.0</td>\n",
              "      <td>4</td>\n",
              "      <td>40.8241</td>\n",
              "      <td>-73.9493</td>\n",
              "      <td>3350</td>\n",
              "      <td>0</td>\n",
              "      <td>0</td>\n",
              "      <td>0</td>\n",
              "      <td>0</td>\n",
              "      <td>0</td>\n",
              "      <td>0</td>\n",
              "      <td>0</td>\n",
              "      <td>0</td>\n",
              "      <td>0</td>\n",
              "      <td>1</td>\n",
              "      <td>0</td>\n",
              "      <td>0</td>\n",
              "      <td>0</td>\n",
              "      <td>0</td>\n",
              "      <td>0</td>\n",
              "      <td>0</td>\n",
              "      <td>0</td>\n",
              "      <td>0</td>\n",
              "      <td>0</td>\n",
              "      <td>0</td>\n",
              "      <td>0</td>\n",
              "      <td>0</td>\n",
              "      <td>0</td>\n",
              "      <td>0</td>\n",
              "      <td>5.0</td>\n",
              "      <td>5</td>\n",
              "      <td>0</td>\n",
              "    </tr>\n",
              "  </tbody>\n",
              "</table>\n",
              "</div>"
            ],
            "text/plain": [
              "   bathrooms  bedrooms  latitude  ...  total_rooms  availability  yuppy\n",
              "0        1.5         3   40.7145  ...          4.5            22      0\n",
              "1        1.0         2   40.7947  ...          3.0           177      0\n",
              "2        1.0         1   40.7388  ...          2.0            69      0\n",
              "3        1.0         1   40.7539  ...          2.0            72      0\n",
              "4        1.0         4   40.8241  ...          5.0             5      0\n",
              "\n",
              "[5 rows x 32 columns]"
            ]
          },
          "metadata": {
            "tags": []
          },
          "execution_count": 13
        }
      ]
    },
    {
      "cell_type": "code",
      "metadata": {
        "id": "MKsEgQUDsxom",
        "outputId": "0b5fada7-7d17-47f1-eeae-9dce9e06148f",
        "colab": {
          "base_uri": "https://localhost:8080/"
        }
      },
      "source": [
        "# The train dataset is created from the entries created in the\n",
        "# months of April and May\n",
        "df_train = df[(df.created >= 'April 2016') & (df.created < 'June 2016')]\n",
        "df_train.shape"
      ],
      "execution_count": 14,
      "outputs": [
        {
          "output_type": "execute_result",
          "data": {
            "text/plain": [
              "(31844, 37)"
            ]
          },
          "metadata": {
            "tags": []
          },
          "execution_count": 14
        }
      ]
    },
    {
      "cell_type": "code",
      "metadata": {
        "id": "f6pJLXuItZe6",
        "outputId": "de2d625b-aaff-4f53-a4b6-ec4632f935d6",
        "colab": {
          "base_uri": "https://localhost:8080/"
        }
      },
      "source": [
        "# The test dataset is created from the entries created in June\n",
        "df_test = df[df.created >= 'June 2016']\n",
        "df_test.shape"
      ],
      "execution_count": 15,
      "outputs": [
        {
          "output_type": "execute_result",
          "data": {
            "text/plain": [
              "(16973, 37)"
            ]
          },
          "metadata": {
            "tags": []
          },
          "execution_count": 15
        }
      ]
    },
    {
      "cell_type": "code",
      "metadata": {
        "id": "6JaKJ80Ptjte"
      },
      "source": [
        "def display_corr(df, ax):\n",
        "  '''\n",
        "\n",
        "  Compute the Correlation matrix and display as a Seaborn heatmap\n",
        "\n",
        "  Arguments:\n",
        "  df - The dataframe for which the corr matrix needs to be computed and\n",
        "       displayed.\n",
        "  ax - The axes in which the heatmap is to be displayed.\n",
        "  '''\n",
        "  df_corr = df.corr()\n",
        "\n",
        "# Generate a mask for the upper triangle (taken from seaborn example gallery)\n",
        "  mask = np.zeros_like(df_corr, dtype=np.bool)\n",
        "  mask[np.triu_indices_from(mask)] = True\n",
        "\n",
        "## heatmeap to see the correlation between features. \n",
        "  sns.heatmap(df_corr, \n",
        "              annot=False,\n",
        "              mask = mask,\n",
        "              cmap = 'RdBu_r',\n",
        "              linewidths=0.1, \n",
        "              linecolor='white',\n",
        "              vmax = .9,\n",
        "              ax = ax,\n",
        "              square=True)\n",
        "  \n",
        "  ax.set_title(f'Correlations Heat Map', y = 1.03,fontsize = 20);"
      ],
      "execution_count": 16,
      "outputs": []
    },
    {
      "cell_type": "code",
      "metadata": {
        "id": "GFPxUGMROeMl",
        "outputId": "57954ab7-4bd4-485b-ca81-239b07242722",
        "colab": {
          "base_uri": "https://localhost:8080/",
          "height": 452
        }
      },
      "source": [
        "import matplotlib.pyplot as plt\n",
        "import seaborn as sns\n",
        "\n",
        "fig, ax = plt.subplots(figsize=(15,5))\n",
        "#Compute and display the correlation coeff matrix\n",
        "#for the numerical attributes\n",
        "display_corr(num_df, ax)"
      ],
      "execution_count": 17,
      "outputs": [
        {
          "output_type": "display_data",
          "data": {
            "image/png": "[encoded data removed]",
            "text/plain": [
              "<Figure size 1080x360 with 2 Axes>"
            ]
          },
          "metadata": {
            "tags": [],
            "needs_background": "light"
          }
        }
      ]
    },
    {
      "cell_type": "code",
      "metadata": {
        "id": "eJH4ENCPR_Gg"
      },
      "source": [
        "# Define list of features that are highly correlated with price\n",
        "high_corr = ['bathrooms', 'longitude']\n",
        "# Define list of features that have a high medium correlation with price\n",
        "hmed_corr = ['total_rooms']\n",
        "# Define list of features that have a low medium correlation with price\n",
        "lmed_corr = ['bedrooms','latitude','pre_war','laundry_in_building']\n"
      ],
      "execution_count": 18,
      "outputs": []
    },
    {
      "cell_type": "code",
      "metadata": {
        "id": "ufpPRA8gSANJ"
      },
      "source": [
        "from sklearn.linear_model import LinearRegression\n",
        "from sklearn.metrics import mean_absolute_error, mean_squared_error, r2_score\n",
        "\n",
        "# Given the actual(y) and predicted(yp) target value, compute and return the\n",
        "# MAE, RMSE and R2 measures.\n",
        "get_errors = lambda y,yp: (mean_absolute_error(y,yp), np.sqrt(mean_squared_error(y,yp)), r2_score(y,yp))\n",
        "\n",
        "#Let's try some linear regression\n",
        "def linear_regression(df, corr_list, target='price'):\n",
        "  '''\n",
        "\n",
        "  Fit and return Linear Regression Model using the features\n",
        "  and target provided.\n",
        "\n",
        "  Arguments:\n",
        "  df        - DataFrame with the features and target columns\n",
        "  corr_list - List of predictive attributes\n",
        "  target    - name of target column \n",
        "  '''\n",
        "\n",
        "  # Extract the predictive attributes matrix X\n",
        "  X = df[corr_list]\n",
        "\n",
        "  # Extract the  target vector y\n",
        "  y = df[target] \n",
        "  lr = LinearRegression()\n",
        "  # Fit a model using X and y\n",
        "  lr.fit(X,y)\n",
        "\n",
        "  return lr"
      ],
      "execution_count": 19,
      "outputs": []
    },
    {
      "cell_type": "code",
      "metadata": {
        "id": "epuFA2ndaUC9"
      },
      "source": [
        "# Translate a baseline scalar into a vector\n",
        "baseline_vector = lambda df,bl: [bl] * df.shape[0]\n",
        "\n",
        "# Compute a baseline MAE.\n",
        "def get_baseline_mae(df, bl, target='price'):\n",
        "\n",
        "  '''\n",
        "\n",
        "  Compute and return the MAE for the baseline.\n",
        "  Arguments:\n",
        "  df        - DataFrame with the features and target columns\n",
        "  bl        - Scalar basline value\n",
        "  target    - name of target column\n",
        "  '''\n",
        "  yp = baseline_vector(df, bl)\n",
        "  mae = mean_absolute_error(df[target], yp)\n",
        "  return mae\n",
        "\n",
        "# Compute the MAE for both mean and median baselines\n",
        "# Return a tuple with the name of baseline(mean/median),\n",
        "# MAE and baseline for the one with the lower MAE.\n",
        "def get_best_baseline(df, target='price'):\n",
        "  bls = [('mean', df[target].mean()), ('median', df[target].median())]\n",
        "\n",
        "  mae = (bls[0][0], get_baseline_mae(df, bls[0][1], target))\n",
        "  for bl in bls[1:]:\n",
        "    mae_ = get_baseline_mae(df, bl[1],target)\n",
        "    if mae_ < mae[1]:\n",
        "      mae = (bl[0], mae_, bl[1])\n",
        "\n",
        "  return mae"
      ],
      "execution_count": 20,
      "outputs": []
    },
    {
      "cell_type": "code",
      "metadata": {
        "id": "a8utz8BhaZxp"
      },
      "source": [
        "def train_and_test_errors(df_train, df_test,corr_list=None, lr = None,bl=None, target='price'):\n",
        "\n",
        "  '''\n",
        "\n",
        "  Given the train and test datasets, compute and return the error measures for\n",
        "  both datasets.\n",
        "  Arguments:\n",
        "  df_train  - Training dataset\n",
        "  df_test   - Test dataset\n",
        "  corr_list - List of feature columns, not required of lr is None\n",
        "  lr        - Linear Regression model to be used to compute\n",
        "              predicted(yp) target values\n",
        "  bl        - Scalar baseline value\n",
        "  target    - name of target column \n",
        "  '''\n",
        "  if lr is not None:\n",
        "    Xtrain = df_train[corr_list]\n",
        "    Xtest = df_test[corr_list]\n",
        "    yp_train = lr.predict(Xtrain)\n",
        "    yp_test = lr.predict(Xtest)\n",
        "  elif bl is not None:\n",
        "    yp_train = baseline_vector(df_train, bl)\n",
        "    yp_test = baseline_vector(df_test, bl)\n",
        "\n",
        "  y_train = df_train[target]\n",
        "  y_test = df_test[target]\n",
        "\n",
        "  train_errors = get_errors(y_train, yp_train)\n",
        "  test_errors = get_errors(y_test, yp_test)\n",
        "\n",
        "  return train_errors, test_errors"
      ],
      "execution_count": 21,
      "outputs": []
    },
    {
      "cell_type": "code",
      "metadata": {
        "id": "ZW_ANNqJx64D"
      },
      "source": [
        "def display_title(title):\n",
        "  print(f'\\n{title}')\n",
        "  print('-'*len(title))\n",
        "\n",
        "def display_errors(errors,s='Train'):\n",
        "  hstr = f'{s} Errors'\n",
        "  display_title(hstr)\n",
        "\n",
        "  print(f'MAE  = {errors[0]:4.2f}')\n",
        "  print(f'RMSE = {errors[1]:4.2f}')\n",
        "  print(f'R2   = {errors[2]:4.2f}')\n",
        "\n",
        "def display_train_test_errors(errors, title='The Train and Test error measures', title_sfx='for the Best Fit Model'):\n",
        "  title = f'{title} {title_sfx}'\n",
        "  display_title(title)\n",
        "\n",
        "  elist = ['Train', 'Test']\n",
        "\n",
        "  for idx,e in enumerate(elist):\n",
        "    display_errors(errors[idx], e)"
      ],
      "execution_count": 22,
      "outputs": []
    },
    {
      "cell_type": "code",
      "metadata": {
        "id": "kaywG6WI3YmS"
      },
      "source": [
        "def display_model_parameters(lr):\n",
        "  display_title('Linear Regression Model Parameters')\n",
        "\n",
        "  print(f'Intercept = {lr.intercept_}')\n",
        "  print(f'Coeffs.   = {lr.coef_}')"
      ],
      "execution_count": 23,
      "outputs": []
    },
    {
      "cell_type": "code",
      "metadata": {
        "id": "nuwlR2wEeJgk",
        "outputId": "04dfa906-714a-4a6f-c2e4-5bceff46804e",
        "colab": {
          "base_uri": "https://localhost:8080/"
        }
      },
      "source": [
        "# get the baseline with the lowest MAE\n",
        "bl_train = get_best_baseline(df_train)\n",
        "\n",
        "print(f'The baseline MAE is {bl_train}')\n",
        "# List of  feature sets - entries after 'baseline'\n",
        "corrs = ['baseline', ['bathrooms'],['bedrooms'], ['total_rooms'], high_corr, hmed_corr, high_corr+hmed_corr, lmed_corr, high_corr+hmed_corr+lmed_corr]\n",
        "\n",
        "# Set the best model errore to the one for the baseline\n",
        "errors_best_model = (0, train_and_test_errors(df_train, df_test, bl=bl_train[2]), bl_train[0])\n",
        "\n",
        "# Loop through the list of feature sets.\n",
        "for idx,corr in enumerate(corrs[1:]):\n",
        "  # For each predictive attribute set\n",
        "  # compute the Linear Regression Model\n",
        "  lr = linear_regression(df_train, corr)\n",
        "  errors = train_and_test_errors(df_train, df_test, corr, lr)\n",
        "  print(f'{corr} :: Test MAE = {errors[1][0]:4.2f}\\n')\n",
        "  #If the new MAE is lower than the previous best\n",
        "  if errors[1][0] < errors_best_model[1][1][0]:\n",
        "    # Store the new MAE as the best one\n",
        "    # Store the feature set index, the new errors and \n",
        "    # Linear regression model\n",
        "    errors_best_model = (idx+1, errors, lr) \n",
        "  "
      ],
      "execution_count": 24,
      "outputs": [
        {
          "output_type": "stream",
          "text": [
            "The baseline MAE is ('median', 1138.5192186911192, 3150.0)\n",
            "['bathrooms'] :: Test MAE = 890.46\n",
            "\n",
            "['bedrooms'] :: Test MAE = 988.73\n",
            "\n",
            "['total_rooms'] :: Test MAE = 910.51\n",
            "\n",
            "['bathrooms', 'longitude'] :: Test MAE = 821.60\n",
            "\n",
            "['total_rooms'] :: Test MAE = 910.51\n",
            "\n",
            "['bathrooms', 'longitude', 'total_rooms'] :: Test MAE = 743.53\n",
            "\n",
            "['bedrooms', 'latitude', 'pre_war', 'laundry_in_building'] :: Test MAE = 981.28\n",
            "\n",
            "['bathrooms', 'longitude', 'total_rooms', 'bedrooms', 'latitude', 'pre_war', 'laundry_in_building'] :: Test MAE = 744.24\n",
            "\n"
          ],
          "name": "stdout"
        }
      ]
    },
    {
      "cell_type": "code",
      "metadata": {
        "id": "eQ6X8Dbd0HTh",
        "outputId": "c1658f31-f072-4639-8a13-7a8c83bc4bc6",
        "colab": {
          "base_uri": "https://localhost:8080/"
        }
      },
      "source": [
        "print(f'The best regression model has a Test MAE of {errors_best_model[1][1][0]} and uses {corrs[errors_best_model[0]]}')\n",
        "\n",
        "display_train_test_errors(errors_best_model[1])\n",
        "\n",
        "display_model_parameters(errors_best_model[2])\n"
      ],
      "execution_count": 25,
      "outputs": [
        {
          "output_type": "stream",
          "text": [
            "The best regression model has a Test MAE of 743.5252434701682 and uses ['bathrooms', 'longitude', 'total_rooms']\n",
            "\n",
            "The Train and Test error measures for the Best Fit Model\n",
            "--------------------------------------------------------\n",
            "\n",
            "Train Errors\n",
            "------------\n",
            "MAE  = 737.42\n",
            "RMSE = 1148.19\n",
            "R2   = 0.58\n",
            "\n",
            "Test Errors\n",
            "-----------\n",
            "MAE  = 743.53\n",
            "RMSE = 1134.19\n",
            "R2   = 0.59\n",
            "\n",
            "Linear Regression Model Parameters\n",
            "----------------------------------\n",
            "Intercept = -1146190.1255217488\n",
            "Coeffs.   = [  1582.130556   -15501.58414297    426.28859762]\n"
          ],
          "name": "stdout"
        }
      ]
    },
    {
      "cell_type": "code",
      "metadata": {
        "id": "uZRiXs858JmR"
      },
      "source": [
        ""
      ],
      "execution_count": 25,
      "outputs": []
    }
  ]
}